{
 "cells": [
  {
   "cell_type": "code",
   "execution_count": null,
   "metadata": {},
   "outputs": [],
   "source": [
    "# pip install pdf2image"
   ]
  },
  {
   "cell_type": "code",
   "execution_count": 3,
   "metadata": {},
   "outputs": [],
   "source": [
    "from pdf2image import convert_from_path\n",
    "\n",
    "# Store Pdf with convert_from_path function\n",
    "pages = convert_from_path('Module0_Notes_Generator/pdfs/notes1.pdf',500)\n",
    "\n",
    "for count, page in enumerate(pages):\n",
    "    # Save pages as images in the pdf\n",
    "    page.save('Module0_Notes_Generator/images/page'+ str(count) +'.jpg', 'JPEG')"
   ]
  },
  {
   "cell_type": "code",
   "execution_count": 6,
   "metadata": {},
   "outputs": [
    {
     "name": "stdout",
     "output_type": "stream",
     "text": [
      "Responses saved to Module1_Notes_to_Quiz/notes.txt\n"
     ]
    }
   ],
   "source": [
    "import os\n",
    "import base64\n",
    "from groq import Groq\n",
    "\n",
    "# Initialize the Groq client\n",
    "client = Groq(\n",
    "    api_key=\"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\"\n",
    ")\n",
    "\n",
    "# Function to encode the image as base64\n",
    "def encode_image(image_path):\n",
    "    with open(image_path, \"rb\") as image_file:\n",
    "        return base64.b64encode(image_file.read()).decode(\"utf-8\")\n",
    "\n",
    "# Function to process images and save responses to a file\n",
    "def process_images_and_save(folder_path, output_file):\n",
    "    combined_text = \"\"\n",
    "    \n",
    "    for image_name in os.listdir(folder_path):\n",
    "        if image_name.lower().endswith((\".jpg\", \".jpeg\", \".png\")):  # Check valid image extensions\n",
    "            image_path = os.path.join(folder_path, image_name)\n",
    "            base64_image = encode_image(image_path)\n",
    "            \n",
    "            try:\n",
    "                # Send image query to Groq client\n",
    "                chat_completion = client.chat.completions.create(\n",
    "                    messages=[\n",
    "                        {\n",
    "                            \"role\": \"user\",\n",
    "                            \"content\": [\n",
    "                                {\"type\": \"text\", \"text\": \"Extract the text from the given Image.\"},\n",
    "                                {\n",
    "                                    \"type\": \"image_url\",\n",
    "                                    \"image_url\": {\n",
    "                                        \"url\": f\"data:image/jpeg;base64,{base64_image}\",\n",
    "                                    },\n",
    "                                },\n",
    "                            ],\n",
    "                        }\n",
    "                    ],\n",
    "                    model=\"llama-3.2-11b-vision-preview\",\n",
    "                )\n",
    "                \n",
    "                # Append the response to the combined text\n",
    "                response = chat_completion.choices[0].message.content\n",
    "                combined_text += f\"Response for {image_name}:\\n{response}\\n\\n{'='*50}\\n\\n\"\n",
    "                \n",
    "            except Exception as e:\n",
    "                print(f\"Error processing {image_name}: {e}\")\n",
    "    \n",
    "    # Write the combined text to the output file\n",
    "    with open(output_file, \"w\", encoding=\"utf-8\") as file:\n",
    "        file.write(combined_text)\n",
    "    print(f\"Responses saved to {output_file}\")\n",
    "\n",
    "# Path to the folder containing images and output file\n",
    "image_folder = \"Module0_Notes_Generator/images\"\n",
    "output_file = \"Module1_Notes_to_Quiz/notes.txt\"\n",
    "\n",
    "# Process images and save responses\n",
    "process_images_and_save(image_folder, output_file)\n"
   ]
  }
 ],
 "metadata": {
  "kernelspec": {
   "display_name": ".venv",
   "language": "python",
   "name": "python3"
  },
  "language_info": {
   "codemirror_mode": {
    "name": "ipython",
    "version": 3
   },
   "file_extension": ".py",
   "mimetype": "text/x-python",
   "name": "python",
   "nbconvert_exporter": "python",
   "pygments_lexer": "ipython3",
   "version": "3.12.6"
  }
 },
 "nbformat": 4,
 "nbformat_minor": 2
}
